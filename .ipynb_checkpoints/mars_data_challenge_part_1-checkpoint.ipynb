{
 "cells": [
  {
   "cell_type": "code",
   "execution_count": 1,
   "id": "fdf552d7",
   "metadata": {},
   "outputs": [],
   "source": [
    "from splinter import Browser\n",
    "from bs4 import BeautifulSoup as soup\n",
    "from webdriver_manager.chrome import ChromeDriverManager\n",
    "import json\n",
    "import pandas as pd\n",
    "import matplotlib.pyplot as plt"
   ]
  },
  {
   "cell_type": "code",
   "execution_count": 2,
   "id": "c5a3d55a",
   "metadata": {},
   "outputs": [
    {
     "name": "stderr",
     "output_type": "stream",
     "text": [
      "[WDM] - Downloading: 100%|████████████████████████████████████████████████████████| 6.29M/6.29M [00:00<00:00, 6.77MB/s]\n"
     ]
    }
   ],
   "source": [
    "# Setup splinter\n",
    "executable_path = {'executable_path': ChromeDriverManager().install()}\n",
    "browser = Browser('chrome', **executable_path, headless=False)"
   ]
  },
  {
   "cell_type": "code",
   "execution_count": 4,
   "id": "7af1776e",
   "metadata": {},
   "outputs": [
    {
     "data": {
      "text/plain": [
       "\"NASA's Mars Perseverance Rover Passes Flight Readiness Review\""
      ]
     },
     "execution_count": 4,
     "metadata": {},
     "output_type": "execute_result"
    }
   ],
   "source": [
    "# Visit the mars nasa news site\n",
    "url = 'https://redplanetscience.com/'\n",
    "browser.visit(url)\n",
    "\n",
    "# Optional delay for loading the page\n",
    "browser.is_element_present_by_css('div.list_text', wait_time=1)\n",
    "\n",
    "# Convert the browser html to a soup object and then quit the browser\n",
    "html = browser.html\n",
    "news_soup = soup(html, 'html.parser')\n",
    "\n",
    "slide_element = news_soup.select_one('div.list_text')\n",
    "\n",
    "slide_element.find('div', class_='content_title')\n",
    "\n",
    "# Use the parent element to find the first a tag and save it as `news_title`\n",
    "news_title = slide_element.find('div', class_='content_title').get_text()\n",
    "news_title\n",
    "\n",
    "\n"
   ]
  },
  {
   "cell_type": "code",
   "execution_count": 5,
   "id": "5c98e5d7",
   "metadata": {},
   "outputs": [
    {
     "data": {
      "text/plain": [
       "\"\\u200bThe agency's Mars 2020 mission has one more big prelaunch review – the Launch Readiness Review, on July 27.\""
      ]
     },
     "execution_count": 5,
     "metadata": {},
     "output_type": "execute_result"
    }
   ],
   "source": [
    "# Use the parent element to find the paragraph text\n",
    "news_paragraph = slide_element.find('div', class_='article_teaser_body').get_text()\n",
    "news_paragraph "
   ]
  },
  {
   "cell_type": "code",
   "execution_count": 6,
   "id": "244a513b",
   "metadata": {},
   "outputs": [
    {
     "name": "stdout",
     "output_type": "stream",
     "text": [
      "NASA's Mars Perseverance Rover Passes Flight Readiness Review\n",
      "​The agency's Mars 2020 mission has one more big prelaunch review – the Launch Readiness Review, on July 27.\n"
     ]
    }
   ],
   "source": [
    "   def mars_news(browser):\n",
    "    # Visit the NASA Mars News Site\n",
    "    url = \"https://redplanetscience.com/\"\n",
    "    browser.visit(url)\n",
    "\n",
    "    # Get First List Item & Wait Half a Second If Not Immediately Present\n",
    "    browser.is_element_present_by_css(\"ul.item_list li.slide\", wait_time=0.5)\n",
    "    \n",
    "    html = browser.html\n",
    "    news_soup = BeautifulSoup(html, \"html.parser\")\n",
    "    \n",
    "    try:\n",
    "        slide_element = news_soup.select_one(\"ul.item_list li.slide\")\n",
    "        slide_element.find(\"div\", class_=\"content_title\")\n",
    "\n",
    "        # Scrape the Latest News Title\n",
    "        # Use Parent Element to Find First <a> Tag and Save it as news_title\n",
    "        news_title = slide_element.find(\"div\", class_=\"content_title\").get_text()\n",
    "\n",
    "        news_paragraph = slide_element.find(\"div\", class_=\"article_teaser_body\").get_text()\n",
    "    except AttributeError:\n",
    "        return None, None\n",
    "    return news_title, news_paragraph\n",
    "print(news_title)\n",
    "print(news_paragraph)\n"
   ]
  },
  {
   "cell_type": "code",
   "execution_count": 7,
   "id": "243fa34c",
   "metadata": {},
   "outputs": [
    {
     "data": {
      "text/plain": [
       "[{'title': \"Celebrate Mars Reconnaissance Orbiter's Views From Above\",\n",
       "  'preview': 'Marking its 15th anniversary since launch, one of the oldest spacecraft at the Red Planet has provided glimpses of dust devils, avalanches, and more.'},\n",
       " {'title': \"NASA-JPL Names 'Rolling Stones Rock' on Mars\",\n",
       "  'preview': \"NASA's Mars InSight mission honored one of the biggest bands of all time at Pasadena concert.\"},\n",
       " {'title': \"NASA's New Mars Rover Is Ready for Space Lasers\",\n",
       "  'preview': 'Perseverance is one of a few Mars spacecraft carrying laser retroreflectors. The devices could provide new science and safer Mars landings in the future.'},\n",
       " {'title': \"NASA's Mars 2020 Rover Tests Descent-Stage Separation\",\n",
       "  'preview': \"A crane lifts the rocket-powered descent stage away from NASA's Mars 2020 rover after technicians tested the pyrotechnic charges that separate the two spacecraft.\"},\n",
       " {'title': \"NASA's Perseverance Rover Is Midway to Mars\",\n",
       "  'preview': \"Sometimes half measures can be a good thing – especially on a journey this long. The agency's latest rover only has about 146 million miles left to reach its destination.\"},\n",
       " {'title': \"From JPL's Mailroom to Mars and Beyond\",\n",
       "  'preview': 'Bill Allen has thrived as the mechanical systems design lead for three Mars rover missions, but he got his start as a teenager sorting letters for the NASA center.'},\n",
       " {'title': \"NASA's Perseverance Rover Bringing 3D-Printed Metal Parts to Mars\",\n",
       "  'preview': \"For hobbyists and makers, 3D printing expands creative possibilities; for specialized engineers, it's also key to next-generation spacecraft design.\"},\n",
       " {'title': \"NASA's Mars 2020 Rover Completes Its First Drive\",\n",
       "  'preview': 'In a 10-plus-hour marathon, the rover steered, turned and drove in 3-foot (1-meter) increments over small ramps.'},\n",
       " {'title': \"Robotic Toolkit Added to NASA's Mars 2020 Rover\",\n",
       "  'preview': \"The bit carousel, which lies at the heart of the rover's Sample Caching System, is now aboard NASA's newest rover.\"},\n",
       " {'title': 'MOXIE Could Help Future Rockets Launch Off Mars',\n",
       "  'preview': \"NASA's Perseverance rover carries a device to convert Martian air into oxygen that, if produced on a larger scale, could be used not just for breathing, but also for fuel.\"},\n",
       " {'title': \"NASA's Perseverance Rover Attached to Atlas V Rocket\",\n",
       "  'preview': 'Ready for its launch later in the month, the Mars-bound rover will touch terra firma no more.'},\n",
       " {'title': \"Newfound Martian Aurora Actually the Most Common; Sheds Light on Mars' Changing Climate\",\n",
       "  'preview': 'A type of Martian aurora first identified by NASA’s MAVEN spacecraft in 2016 is actually the most common form of aurora occurring on the Red Planet, according to new results from the mission.'},\n",
       " {'title': \"The Launch Is Approaching for NASA's Next Mars Rover, Perseverance\",\n",
       "  'preview': \"The Red Planet's surface has been visited by eight NASA spacecraft. The ninth will be the first that includes a roundtrip ticket in its flight plan.\"},\n",
       " {'title': \"NASA's MAVEN Maps Winds in the Martian Upper Atmosphere that Mirror the Terrain Below and Gives Clues to Martian Climate\",\n",
       "  'preview': 'Researchers have created the first map of wind circulation in the upper atmosphere of a planet besides Earth, using data from NASA’s MAVEN spacecraft that were collected during the last two years.'},\n",
       " {'title': 'With Mars Methane Mystery Unsolved, Curiosity Serves Scientists a New One: Oxygen',\n",
       "  'preview': 'For the first time in the history of space exploration, scientists have measured the seasonal changes in the gases that fill the air directly above the surface of Gale Crater on Mars.'}]"
      ]
     },
     "execution_count": 7,
     "metadata": {},
     "output_type": "execute_result"
    }
   ],
   "source": [
    "#create for loop to return all titles and preview on https://redplanetscience.com/ and save in a dictionary\n",
    "\n",
    "url = \"https://redplanetscience.com/\"\n",
    "browser.visit(url)\n",
    "loop_count= len(browser.find_by_css(\"div.content_title\"))\n",
    "\n",
    "title_preview_list = []\n",
    "\n",
    "for i in range (1,loop_count+1):\n",
    "    xpath_t= f'//*[@id=\"news\"]/div[{i}]/div/div[2]/div/div[2]'\n",
    "    xpath_p= f'//*[@id=\"news\"]/div[{i}]/div/div[2]/div/div[3]'\n",
    "    #print(xpath_t,xpath_p)\n",
    "    t_p_dict={}\n",
    "    title= browser.find_by_xpath(xpath_t).text\n",
    "    paragraph= browser.find_by_xpath(xpath_p).text\n",
    "    t_p_dict[\"title\"]=title\n",
    "    t_p_dict[\"preview\"]=paragraph\n",
    "    title_preview_list.append(t_p_dict)\n",
    "title_preview_list"
   ]
  },
  {
   "cell_type": "code",
   "execution_count": 8,
   "id": "b8933a29",
   "metadata": {},
   "outputs": [
    {
     "name": "stdout",
     "output_type": "stream",
     "text": [
      "[\n",
      "  {\n",
      "    \"title\": \"Celebrate Mars Reconnaissance Orbiter's Views From Above\",\n",
      "    \"preview\": \"Marking its 15th anniversary since launch, one of the oldest spacecraft at the Red Planet has provided glimpses of dust devils, avalanches, and more.\"\n",
      "  },\n",
      "  {\n",
      "    \"title\": \"NASA-JPL Names 'Rolling Stones Rock' on Mars\",\n",
      "    \"preview\": \"NASA's Mars InSight mission honored one of the biggest bands of all time at Pasadena concert.\"\n",
      "  },\n",
      "  {\n",
      "    \"title\": \"NASA's New Mars Rover Is Ready for Space Lasers\",\n",
      "    \"preview\": \"Perseverance is one of a few Mars spacecraft carrying laser retroreflectors. The devices could provide new science and safer Mars landings in the future.\"\n",
      "  },\n",
      "  {\n",
      "    \"title\": \"NASA's Mars 2020 Rover Tests Descent-Stage Separation\",\n",
      "    \"preview\": \"A crane lifts the rocket-powered descent stage away from NASA's Mars 2020 rover after technicians tested the pyrotechnic charges that separate the two spacecraft.\"\n",
      "  },\n",
      "  {\n",
      "    \"title\": \"NASA's Perseverance Rover Is Midway to Mars\",\n",
      "    \"preview\": \"Sometimes half measures can be a good thing \\u2013 especially on a journey this long. The agency's latest rover only has about 146 million miles left to reach its destination.\"\n",
      "  },\n",
      "  {\n",
      "    \"title\": \"From JPL's Mailroom to Mars and Beyond\",\n",
      "    \"preview\": \"Bill Allen has thrived as the mechanical systems design lead for three Mars rover missions, but he got his start as a teenager sorting letters for the NASA center.\"\n",
      "  },\n",
      "  {\n",
      "    \"title\": \"NASA's Perseverance Rover Bringing 3D-Printed Metal Parts to Mars\",\n",
      "    \"preview\": \"For hobbyists and makers, 3D printing expands creative possibilities; for specialized engineers, it's also key to next-generation spacecraft design.\"\n",
      "  },\n",
      "  {\n",
      "    \"title\": \"NASA's Mars 2020 Rover Completes Its First Drive\",\n",
      "    \"preview\": \"In a 10-plus-hour marathon, the rover steered, turned and drove in 3-foot (1-meter) increments over small ramps.\"\n",
      "  },\n",
      "  {\n",
      "    \"title\": \"Robotic Toolkit Added to NASA's Mars 2020 Rover\",\n",
      "    \"preview\": \"The bit carousel, which lies at the heart of the rover's Sample Caching System, is now aboard NASA's newest rover.\"\n",
      "  },\n",
      "  {\n",
      "    \"title\": \"MOXIE Could Help Future Rockets Launch Off Mars\",\n",
      "    \"preview\": \"NASA's Perseverance rover carries a device to convert Martian air into oxygen that, if produced on a larger scale, could be used not just for breathing, but also for fuel.\"\n",
      "  },\n",
      "  {\n",
      "    \"title\": \"NASA's Perseverance Rover Attached to Atlas V Rocket\",\n",
      "    \"preview\": \"Ready for its launch later in the month, the Mars-bound rover will touch terra firma no more.\"\n",
      "  },\n",
      "  {\n",
      "    \"title\": \"Newfound Martian Aurora Actually the Most Common; Sheds Light on Mars' Changing Climate\",\n",
      "    \"preview\": \"A type of Martian aurora first identified by NASA\\u2019s MAVEN spacecraft in 2016 is actually the most common form of aurora occurring on the Red Planet, according to new results from the mission.\"\n",
      "  },\n",
      "  {\n",
      "    \"title\": \"The Launch Is Approaching for NASA's Next Mars Rover, Perseverance\",\n",
      "    \"preview\": \"The Red Planet's surface has been visited by eight NASA spacecraft. The ninth will be the first that includes a roundtrip ticket in its flight plan.\"\n",
      "  },\n",
      "  {\n",
      "    \"title\": \"NASA's MAVEN Maps Winds in the Martian Upper Atmosphere that Mirror the Terrain Below and Gives Clues to Martian Climate\",\n",
      "    \"preview\": \"Researchers have created the first map of wind circulation in the upper atmosphere of a planet besides Earth, using data from NASA\\u2019s MAVEN spacecraft that were collected during the last two years.\"\n",
      "  },\n",
      "  {\n",
      "    \"title\": \"With Mars Methane Mystery Unsolved, Curiosity Serves Scientists a New One: Oxygen\",\n",
      "    \"preview\": \"For the first time in the history of space exploration, scientists have measured the seasonal changes in the gases that fill the air directly above the surface of Gale Crater on Mars.\"\n",
      "  }\n",
      "]\n"
     ]
    }
   ],
   "source": [
    "#convert to json file\n",
    "\n",
    "convert_json= json.dumps(title_preview_list, indent=2)\n",
    "print(convert_json)"
   ]
  },
  {
   "cell_type": "code",
   "execution_count": 10,
   "id": "824802d7",
   "metadata": {},
   "outputs": [],
   "source": [
    "#save json file in Output folder\n",
    "with open('Output/marsnews.json', \"w\") as final:\n",
    "    json.dump(convert_json, final)"
   ]
  }
 ],
 "metadata": {
  "kernelspec": {
   "display_name": "Python 3 (ipykernel)",
   "language": "python",
   "name": "python3"
  },
  "language_info": {
   "codemirror_mode": {
    "name": "ipython",
    "version": 3
   },
   "file_extension": ".py",
   "mimetype": "text/x-python",
   "name": "python",
   "nbconvert_exporter": "python",
   "pygments_lexer": "ipython3",
   "version": "3.9.12"
  },
  "vscode": {
   "interpreter": {
    "hash": "382b7b08f03c8308525da1febad1c0b6741b60f4688973ffa3ee99141efe4314"
   }
  }
 },
 "nbformat": 4,
 "nbformat_minor": 5
}
